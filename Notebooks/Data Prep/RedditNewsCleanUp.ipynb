{
  "nbformat": 4,
  "nbformat_minor": 0,
  "metadata": {
    "colab": {
      "name": "RedditNewsCleanUp.ipynb",
      "provenance": [],
      "collapsed_sections": []
    },
    "kernelspec": {
      "name": "python3",
      "display_name": "Python 3"
    },
    "accelerator": "TPU"
  },
  "cells": [
    {
      "cell_type": "code",
      "metadata": {
        "id": "yfszPAoLPzeF"
      },
      "source": [
        "import pandas as pd\r\n",
        "import numpy as np"
      ],
      "execution_count": null,
      "outputs": []
    },
    {
      "cell_type": "code",
      "metadata": {
        "id": "jbbtMrXTTvCE"
      },
      "source": [
        "def cleanNewsDf(df):\r\n",
        "  uniqueDates = df.groupby('Date')\r\n",
        "  newsDic = {}\r\n",
        "  for date,group in uniqueDates:\r\n",
        "    for news in (group['News'].to_list()):\r\n",
        "      if date in newsDic:\r\n",
        "        newsDic[date][0] += news\r\n",
        "      else:\r\n",
        "        newsDic[date] = [news]\r\n",
        "  \r\n",
        "  dfDate = pd.DataFrame.from_dict(newsDic,'index')\r\n",
        "  dfDate.columns = ['News']\r\n",
        "  dfDate['Date'] = dfDate.index\r\n",
        "  dfDate = dfDate.reindex(columns = ['Date', 'News'])\r\n",
        "  dfDate = dfDate.reset_index(drop=True)\r\n",
        "  dfDate = dfDate.replace(np.nan, ' ', regex=True)\r\n",
        "  dfDate = dfDate.replace('b\\\"|b\\'|\\\\\\\\|\\\\\\\"', '', regex=True)\r\n",
        "  return dfDate"
      ],
      "execution_count": null,
      "outputs": []
    },
    {
      "cell_type": "code",
      "metadata": {
        "id": "9h7ys96EP9Jy"
      },
      "source": [
        "redditNews    = pd.read_csv('/content/sample_data/RedditNews.csv')\r\n",
        "redditNews = cleanNewsDf(redditNews)"
      ],
      "execution_count": null,
      "outputs": []
    },
    {
      "cell_type": "code",
      "metadata": {
        "colab": {
          "base_uri": "https://localhost:8080/"
        },
        "id": "ITm32gtUZsY0",
        "outputId": "c80a6b71-40a5-4fc1-e8a2-91f1efbe97ea"
      },
      "source": [
        "import nltk\r\n",
        "nltk.download('vader_lexicon') # one time only (Valence Aware Dictionary and sEntiment Reasoner)\r\n",
        "from nltk.sentiment.vader import SentimentIntensityAnalyzer\r\n",
        "vader = SentimentIntensityAnalyzer()"
      ],
      "execution_count": null,
      "outputs": [
        {
          "output_type": "stream",
          "text": [
            "[nltk_data] Downloading package vader_lexicon to /root/nltk_data...\n",
            "[nltk_data]   Package vader_lexicon is already up-to-date!\n"
          ],
          "name": "stdout"
        },
        {
          "output_type": "stream",
          "text": [
            "/usr/local/lib/python3.6/dist-packages/nltk/twitter/__init__.py:20: UserWarning: The twython library has not been installed. Some functionality from the twitter package will not be available.\n",
            "  warnings.warn(\"The twython library has not been installed. \"\n"
          ],
          "name": "stderr"
        }
      ]
    },
    {
      "cell_type": "code",
      "metadata": {
        "id": "7nrLaWyIXEnZ"
      },
      "source": [
        "def addPolarityScores(df):\r\n",
        "  negLst = []\r\n",
        "  neuLst = []\r\n",
        "  posLst = []\r\n",
        "  comLst = []\r\n",
        "\r\n",
        "  nrows = df.shape[0]\r\n",
        "  for i in range(nrows):\r\n",
        "    s = str(df.iloc[i,1])\r\n",
        "    pScores = vader.polarity_scores(s)\r\n",
        "    neg = pScores['neg']\r\n",
        "    negLst.append(neg)\r\n",
        "    neu = pScores['neu']\r\n",
        "    neuLst.append(neu)\r\n",
        "    pos = pScores['pos']\r\n",
        "    posLst.append(pos)\r\n",
        "    com = pScores['compound']\r\n",
        "    comLst.append(com)\r\n",
        "\r\n",
        "  df['neg'] = negLst\r\n",
        "  df['neu'] = neuLst\r\n",
        "  df['pos'] = posLst\r\n",
        "  df['compound'] = comLst\r\n",
        "\r\n",
        "  return df"
      ],
      "execution_count": null,
      "outputs": []
    },
    {
      "cell_type": "code",
      "metadata": {
        "colab": {
          "base_uri": "https://localhost:8080/",
          "height": 407
        },
        "id": "4CNa0MIXZRFD",
        "outputId": "ee352568-7ab3-4370-b3d0-93b2b32aef63"
      },
      "source": [
        "redditSentiment = addPolarityScores(redditNews)\r\n",
        "redditSentiment"
      ],
      "execution_count": null,
      "outputs": [
        {
          "output_type": "execute_result",
          "data": {
            "text/html": [
              "<div>\n",
              "<style scoped>\n",
              "    .dataframe tbody tr th:only-of-type {\n",
              "        vertical-align: middle;\n",
              "    }\n",
              "\n",
              "    .dataframe tbody tr th {\n",
              "        vertical-align: top;\n",
              "    }\n",
              "\n",
              "    .dataframe thead th {\n",
              "        text-align: right;\n",
              "    }\n",
              "</style>\n",
              "<table border=\"1\" class=\"dataframe\">\n",
              "  <thead>\n",
              "    <tr style=\"text-align: right;\">\n",
              "      <th></th>\n",
              "      <th>Date</th>\n",
              "      <th>News</th>\n",
              "      <th>neg</th>\n",
              "      <th>neu</th>\n",
              "      <th>pos</th>\n",
              "      <th>compound</th>\n",
              "    </tr>\n",
              "  </thead>\n",
              "  <tbody>\n",
              "    <tr>\n",
              "      <th>0</th>\n",
              "      <td>2008-06-08</td>\n",
              "      <td>Nim Chimpsky: The tragedy of the chimp who tho...</td>\n",
              "      <td>0.208</td>\n",
              "      <td>0.763</td>\n",
              "      <td>0.029</td>\n",
              "      <td>-0.9974</td>\n",
              "    </tr>\n",
              "    <tr>\n",
              "      <th>1</th>\n",
              "      <td>2008-06-09</td>\n",
              "      <td>United States quits Human Rights Council'Penta...</td>\n",
              "      <td>0.218</td>\n",
              "      <td>0.705</td>\n",
              "      <td>0.078</td>\n",
              "      <td>-0.9972</td>\n",
              "    </tr>\n",
              "    <tr>\n",
              "      <th>2</th>\n",
              "      <td>2008-06-10</td>\n",
              "      <td>Oil shortage a myth, says industry insider'Isr...</td>\n",
              "      <td>0.212</td>\n",
              "      <td>0.748</td>\n",
              "      <td>0.040</td>\n",
              "      <td>-0.9943</td>\n",
              "    </tr>\n",
              "    <tr>\n",
              "      <th>3</th>\n",
              "      <td>2008-06-11</td>\n",
              "      <td>BBC uncovers lost Iraq billions'War Criminal G...</td>\n",
              "      <td>0.167</td>\n",
              "      <td>0.732</td>\n",
              "      <td>0.101</td>\n",
              "      <td>-0.9728</td>\n",
              "    </tr>\n",
              "    <tr>\n",
              "      <th>4</th>\n",
              "      <td>2008-06-12</td>\n",
              "      <td>Did US attack Pakistan last night? Pakistan fu...</td>\n",
              "      <td>0.150</td>\n",
              "      <td>0.770</td>\n",
              "      <td>0.080</td>\n",
              "      <td>-0.9681</td>\n",
              "    </tr>\n",
              "    <tr>\n",
              "      <th>...</th>\n",
              "      <td>...</td>\n",
              "      <td>...</td>\n",
              "      <td>...</td>\n",
              "      <td>...</td>\n",
              "      <td>...</td>\n",
              "      <td>...</td>\n",
              "    </tr>\n",
              "    <tr>\n",
              "      <th>2938</th>\n",
              "      <td>2016-06-27</td>\n",
              "      <td>Barclays and RBS shares suspended from trading...</td>\n",
              "      <td>0.151</td>\n",
              "      <td>0.759</td>\n",
              "      <td>0.090</td>\n",
              "      <td>-0.9683</td>\n",
              "    </tr>\n",
              "    <tr>\n",
              "      <th>2939</th>\n",
              "      <td>2016-06-28</td>\n",
              "      <td>2,500 Scientists To Australia: If You Want To ...</td>\n",
              "      <td>0.137</td>\n",
              "      <td>0.763</td>\n",
              "      <td>0.100</td>\n",
              "      <td>-0.9633</td>\n",
              "    </tr>\n",
              "    <tr>\n",
              "      <th>2940</th>\n",
              "      <td>2016-06-29</td>\n",
              "      <td>Explosion At Airport In IstanbulYemeni former ...</td>\n",
              "      <td>0.209</td>\n",
              "      <td>0.715</td>\n",
              "      <td>0.076</td>\n",
              "      <td>-0.9968</td>\n",
              "    </tr>\n",
              "    <tr>\n",
              "      <th>2941</th>\n",
              "      <td>2016-06-30</td>\n",
              "      <td>Jamaica proposes marijuana dispensers for tour...</td>\n",
              "      <td>0.211</td>\n",
              "      <td>0.735</td>\n",
              "      <td>0.053</td>\n",
              "      <td>-0.9978</td>\n",
              "    </tr>\n",
              "    <tr>\n",
              "      <th>2942</th>\n",
              "      <td>2016-07-01</td>\n",
              "      <td>A 117-year-old woman in Mexico City finally re...</td>\n",
              "      <td>0.216</td>\n",
              "      <td>0.724</td>\n",
              "      <td>0.059</td>\n",
              "      <td>-0.9982</td>\n",
              "    </tr>\n",
              "  </tbody>\n",
              "</table>\n",
              "<p>2943 rows × 6 columns</p>\n",
              "</div>"
            ],
            "text/plain": [
              "            Date  ... compound\n",
              "0     2008-06-08  ...  -0.9974\n",
              "1     2008-06-09  ...  -0.9972\n",
              "2     2008-06-10  ...  -0.9943\n",
              "3     2008-06-11  ...  -0.9728\n",
              "4     2008-06-12  ...  -0.9681\n",
              "...          ...  ...      ...\n",
              "2938  2016-06-27  ...  -0.9683\n",
              "2939  2016-06-28  ...  -0.9633\n",
              "2940  2016-06-29  ...  -0.9968\n",
              "2941  2016-06-30  ...  -0.9978\n",
              "2942  2016-07-01  ...  -0.9982\n",
              "\n",
              "[2943 rows x 6 columns]"
            ]
          },
          "metadata": {
            "tags": []
          },
          "execution_count": 6
        }
      ]
    },
    {
      "cell_type": "code",
      "metadata": {
        "id": "8lOjHg6QZ4Iy"
      },
      "source": [
        "redditSentiment.to_csv('djiaNewsSentiment.csv')"
      ],
      "execution_count": null,
      "outputs": []
    },
    {
      "cell_type": "code",
      "metadata": {
        "colab": {
          "base_uri": "https://localhost:8080/"
        },
        "id": "eCln3qmpa4Fj",
        "outputId": "4d90da73-60dd-453e-bf4c-2c0db8608669"
      },
      "source": [
        "from google.colab import drive\n",
        "drive.mount('/content/drive')"
      ],
      "execution_count": null,
      "outputs": [
        {
          "output_type": "stream",
          "text": [
            "Mounted at /content/drive\n"
          ],
          "name": "stdout"
        }
      ]
    },
    {
      "cell_type": "code",
      "metadata": {
        "id": "mw20WXMBamxs"
      },
      "source": [
        ""
      ],
      "execution_count": null,
      "outputs": []
    }
  ]
}